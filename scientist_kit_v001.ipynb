{
 "cells": [
  {
   "cell_type": "markdown",
   "metadata": {},
   "source": [
    "# Data Science - Scientist Kit"
   ]
  },
  {
   "cell_type": "markdown",
   "metadata": {},
   "source": [
    "## 000 - Setup"
   ]
  },
  {
   "cell_type": "code",
   "execution_count": 3,
   "metadata": {},
   "outputs": [],
   "source": [
    "import pandas as pd\n",
    "import numpy as np\n",
    "import calculations as cc\n",
    "import log"
   ]
  },
  {
   "cell_type": "markdown",
   "metadata": {},
   "source": [
    "### 000.001 - Import and Variables"
   ]
  },
  {
   "cell_type": "code",
   "execution_count": 6,
   "metadata": {},
   "outputs": [],
   "source": [
    "arquivo = \"default of credit card clients.csv\""
   ]
  },
  {
   "cell_type": "code",
   "execution_count": 8,
   "metadata": {},
   "outputs": [],
   "source": [
    "data_brut = pd.read_csv(arquivo, sep = \";\")"
   ]
  },
  {
   "cell_type": "markdown",
   "metadata": {},
   "source": [
    "## 001 - Exploracao de Dados"
   ]
  },
  {
   "cell_type": "code",
   "execution_count": 36,
   "metadata": {},
   "outputs": [
    {
     "name": "stdout",
     "output_type": "stream",
     "text": [
      "Estatisticas Básicas\n",
      "\n",
      "Nome do Dataset: default of credit card clients.csv\n",
      "Quantidade de linhas: 30000\n",
      "Quantidade de colunas: 25\n",
      "\n",
      "Describe Columns\n",
      "ID                            int64\n",
      "LIMIT_BAL                     int64\n",
      "SEX                           int64\n",
      "EDUCATION                     int64\n",
      "MARRIAGE                      int64\n",
      "AGE                           int64\n",
      "PAY_0                         int64\n",
      "PAY_2                         int64\n",
      "PAY_3                         int64\n",
      "PAY_4                         int64\n",
      "PAY_5                         int64\n",
      "PAY_6                         int64\n",
      "BILL_AMT1                     int64\n",
      "BILL_AMT2                     int64\n",
      "BILL_AMT3                     int64\n",
      "BILL_AMT4                     int64\n",
      "BILL_AMT5                     int64\n",
      "BILL_AMT6                     int64\n",
      "PAY_AMT1                      int64\n",
      "PAY_AMT2                      int64\n",
      "PAY_AMT3                      int64\n",
      "PAY_AMT4                      int64\n",
      "PAY_AMT5                      int64\n",
      "PAY_AMT6                      int64\n",
      "default payment next month    int64\n",
      "dtype: object\n",
      "\n",
      "Sample\n",
      "                                0       1      2      3      4\n",
      "ID                              1       2      3      4      5\n",
      "LIMIT_BAL                   20000  120000  90000  50000  50000\n",
      "SEX                             2       2      2      2      1\n",
      "EDUCATION                       2       2      2      2      2\n",
      "MARRIAGE                        1       2      2      1      1\n",
      "AGE                            24      26     34     37     57\n",
      "PAY_0                           2      -1      0      0     -1\n",
      "PAY_2                           2       2      0      0      0\n",
      "PAY_3                          -1       0      0      0     -1\n",
      "PAY_4                          -1       0      0      0      0\n",
      "PAY_5                          -2       0      0      0      0\n",
      "PAY_6                          -2       2      0      0      0\n",
      "BILL_AMT1                    3913    2682  29239  46990   8617\n",
      "BILL_AMT2                    3102    1725  14027  48233   5670\n",
      "BILL_AMT3                     689    2682  13559  49291  35835\n",
      "BILL_AMT4                       0    3272  14331  28314  20940\n",
      "BILL_AMT5                       0    3455  14948  28959  19146\n",
      "BILL_AMT6                       0    3261  15549  29547  19131\n",
      "PAY_AMT1                        0       0   1518   2000   2000\n",
      "PAY_AMT2                      689    1000   1500   2019  36681\n",
      "PAY_AMT3                        0    1000   1000   1200  10000\n",
      "PAY_AMT4                        0    1000   1000   1100   9000\n",
      "PAY_AMT5                        0       0   1000   1069    689\n",
      "PAY_AMT6                        0    2000   5000   1000    679\n",
      "default payment next month      1       1      0      0      0\n",
      "None\n"
     ]
    }
   ],
   "source": [
    "print(\"Estatisticas Básicas\")\n",
    "print(\"\")\n",
    "print(\"Nome do Dataset: \" + arquivo)\n",
    "print(\"Quantidade de linhas: \" + str(len(data_brut)))\n",
    "print(\"Quantidade de colunas: \" + str(len(data_brut.columns)))\n",
    "print(\"\")\n",
    "print(\"Describe Columns\")\n",
    "print(data_brut.dtypes)\n",
    "print(\"\")\n",
    "print(\"Sample\")\n",
    "print(print(data_brut.T.iloc[:,0:5]))\n"
   ]
  },
  {
   "cell_type": "code",
   "execution_count": null,
   "metadata": {},
   "outputs": [],
   "source": []
  },
  {
   "cell_type": "markdown",
   "metadata": {},
   "source": [
    "## Estatisticas Basicas "
   ]
  },
  {
   "cell_type": "code",
   "execution_count": 25,
   "metadata": {},
   "outputs": [],
   "source": [
    "colunas = \"MARRIAGE,ID\"\n",
    "agrupar_por = \"MARRIAGE\"\n",
    "operador = \"count\""
   ]
  },
  {
   "cell_type": "code",
   "execution_count": 29,
   "metadata": {},
   "outputs": [
    {
     "data": {
      "text/html": [
       "<div>\n",
       "<style scoped>\n",
       "    .dataframe tbody tr th:only-of-type {\n",
       "        vertical-align: middle;\n",
       "    }\n",
       "\n",
       "    .dataframe tbody tr th {\n",
       "        vertical-align: top;\n",
       "    }\n",
       "\n",
       "    .dataframe thead th {\n",
       "        text-align: right;\n",
       "    }\n",
       "</style>\n",
       "<table border=\"1\" class=\"dataframe\">\n",
       "  <thead>\n",
       "    <tr style=\"text-align: right;\">\n",
       "      <th></th>\n",
       "      <th>ID</th>\n",
       "    </tr>\n",
       "    <tr>\n",
       "      <th>MARRIAGE</th>\n",
       "      <th></th>\n",
       "    </tr>\n",
       "  </thead>\n",
       "  <tbody>\n",
       "    <tr>\n",
       "      <th>0</th>\n",
       "      <td>54</td>\n",
       "    </tr>\n",
       "    <tr>\n",
       "      <th>1</th>\n",
       "      <td>13659</td>\n",
       "    </tr>\n",
       "    <tr>\n",
       "      <th>2</th>\n",
       "      <td>15964</td>\n",
       "    </tr>\n",
       "    <tr>\n",
       "      <th>3</th>\n",
       "      <td>323</td>\n",
       "    </tr>\n",
       "  </tbody>\n",
       "</table>\n",
       "</div>"
      ],
      "text/plain": [
       "             ID\n",
       "MARRIAGE       \n",
       "0            54\n",
       "1         13659\n",
       "2         15964\n",
       "3           323"
      ]
     },
     "execution_count": 29,
     "metadata": {},
     "output_type": "execute_result"
    }
   ],
   "source": [
    "data_brut[[\"MARRIAGE\",\"ID\"]].groupby(agrupar_por).agg(operador)"
   ]
  },
  {
   "cell_type": "code",
   "execution_count": null,
   "metadata": {},
   "outputs": [],
   "source": []
  },
  {
   "cell_type": "code",
   "execution_count": null,
   "metadata": {},
   "outputs": [],
   "source": []
  }
 ],
 "metadata": {
  "kernelspec": {
   "display_name": "Python 3",
   "language": "python",
   "name": "python3"
  },
  "language_info": {
   "codemirror_mode": {
    "name": "ipython",
    "version": 3
   },
   "file_extension": ".py",
   "mimetype": "text/x-python",
   "name": "python",
   "nbconvert_exporter": "python",
   "pygments_lexer": "ipython3",
   "version": "3.7.1"
  }
 },
 "nbformat": 4,
 "nbformat_minor": 2
}
