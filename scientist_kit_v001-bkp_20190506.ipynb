{
 "cells": [
  {
   "cell_type": "markdown",
   "metadata": {},
   "source": [
    "# Data Science - Scientist Kit"
   ]
  },
  {
   "cell_type": "markdown",
   "metadata": {},
   "source": [
    "## 000 - Setup"
   ]
  },
  {
   "cell_type": "code",
   "execution_count": 1,
   "metadata": {},
   "outputs": [
    {
     "name": "stdout",
     "output_type": "stream",
     "text": [
      "C:\\Users\\daniel.kabata\\Desktop\\Core\\Git\\data_science_kit\\scientist_kit_v001\n"
     ]
    }
   ],
   "source": [
    "import os\n",
    "import sys\n",
    "path_f = os.path.realpath(\"scientist_kit_v001\")\n",
    "print(path_f)\n",
    "sys.path.insert(0, path_f)"
   ]
  },
  {
   "cell_type": "code",
   "execution_count": 59,
   "metadata": {},
   "outputs": [],
   "source": [
    "import pandas as pd\n",
    "import numpy as np\n",
    "import matplotlib.pyplot as plt\n",
    "import scripts.calculations as cc\n",
    "import scripts.log as log\n",
    "import scripts.statistics as st\n",
    "import scripts.random_database_generator as rgen\n",
    "import scripts.scores as sc\n",
    "import importlib\n",
    "\n",
    "%matplotlib inline"
   ]
  },
  {
   "cell_type": "code",
   "execution_count": 60,
   "metadata": {},
   "outputs": [
    {
     "data": {
      "text/plain": [
       "<module 'scripts.scores' from 'C:\\\\Users\\\\alunog.ACAD.000\\\\Downloads\\\\data_science_kit-master\\\\data_science_kit-master\\\\scripts\\\\scores.py'>"
      ]
     },
     "execution_count": 60,
     "metadata": {},
     "output_type": "execute_result"
    }
   ],
   "source": [
    "importlib.reload(rgen)\n",
    "importlib.reload(sc)"
   ]
  },
  {
   "cell_type": "markdown",
   "metadata": {},
   "source": [
    "### 000.001 - Data Generator for Tests"
   ]
  },
  {
   "cell_type": "code",
   "execution_count": 4,
   "metadata": {},
   "outputs": [],
   "source": [
    "seed = 0\n",
    "n_row = 100\n",
    "min_v = 0\n",
    "max_v = 200"
   ]
  },
  {
   "cell_type": "code",
   "execution_count": null,
   "metadata": {},
   "outputs": [],
   "source": []
  },
  {
   "cell_type": "code",
   "execution_count": 77,
   "metadata": {},
   "outputs": [
    {
     "data": {
      "image/png": "[encoded data removed]",
      "text/plain": [
       "<Figure size 432x288 with 1 Axes>"
      ]
     },
     "metadata": {
      "needs_background": "light"
     },
     "output_type": "display_data"
    }
   ],
   "source": [
    "# Gera base linear X e Y\n",
    "x, delta, y  = rgen.gera_base_linear(seed,n_row,min_v,max_v)\n",
    "df = rgen.gera_pandas_base_linear(x,y,delta)"
   ]
  },
  {
   "cell_type": "code",
   "execution_count": 62,
   "metadata": {
    "scrolled": true
   },
   "outputs": [
    {
     "data": {
      "text/html": [
       "<div>\n",
       "<style scoped>\n",
       "    .dataframe tbody tr th:only-of-type {\n",
       "        vertical-align: middle;\n",
       "    }\n",
       "\n",
       "    .dataframe tbody tr th {\n",
       "        vertical-align: top;\n",
       "    }\n",
       "\n",
       "    .dataframe thead th {\n",
       "        text-align: right;\n",
       "    }\n",
       "</style>\n",
       "<table border=\"1\" class=\"dataframe\">\n",
       "  <thead>\n",
       "    <tr style=\"text-align: right;\">\n",
       "      <th></th>\n",
       "      <th>y</th>\n",
       "      <th>x</th>\n",
       "      <th>delta</th>\n",
       "    </tr>\n",
       "  </thead>\n",
       "  <tbody>\n",
       "    <tr>\n",
       "      <th>0</th>\n",
       "      <td>11.952540</td>\n",
       "      <td>0.000000</td>\n",
       "      <td>1.952540</td>\n",
       "    </tr>\n",
       "    <tr>\n",
       "      <th>1</th>\n",
       "      <td>19.704621</td>\n",
       "      <td>2.020202</td>\n",
       "      <td>8.607575</td>\n",
       "    </tr>\n",
       "    <tr>\n",
       "      <th>2</th>\n",
       "      <td>16.213778</td>\n",
       "      <td>4.040404</td>\n",
       "      <td>4.110535</td>\n",
       "    </tr>\n",
       "    <tr>\n",
       "      <th>3</th>\n",
       "      <td>14.880034</td>\n",
       "      <td>6.060606</td>\n",
       "      <td>1.795327</td>\n",
       "    </tr>\n",
       "    <tr>\n",
       "      <th>4</th>\n",
       "      <td>10.863210</td>\n",
       "      <td>8.080808</td>\n",
       "      <td>-3.053808</td>\n",
       "    </tr>\n",
       "  </tbody>\n",
       "</table>\n",
       "</div>"
      ],
      "text/plain": [
       "           y         x     delta\n",
       "0  11.952540  0.000000  1.952540\n",
       "1  19.704621  2.020202  8.607575\n",
       "2  16.213778  4.040404  4.110535\n",
       "3  14.880034  6.060606  1.795327\n",
       "4  10.863210  8.080808 -3.053808"
      ]
     },
     "execution_count": 62,
     "metadata": {},
     "output_type": "execute_result"
    }
   ],
   "source": [
    "df = pd.DataFrame()\n",
    "df[\"y\"] = y\n",
    "df[\"x\"] = x\n",
    "df[\"delta\"] = delta\n",
    "df.head()"
   ]
  },
  {
   "cell_type": "code",
   "execution_count": null,
   "metadata": {},
   "outputs": [],
   "source": [
    "def score_rss(y, ypred):\n",
    "    # parametros de entrada: series (colunas do dataframe)\n",
    "    # y: é o valor do dataset\n",
    "    # y_pred: valor da reta que estamos avaliando\n",
    "    \n",
    "    rs = (y - ypred)*(y - ypred)\n",
    "    \n",
    "    return rs.sum()"
   ]
  },
  {
   "cell_type": "code",
   "execution_count": 81,
   "metadata": {},
   "outputs": [
    {
     "data": {
      "text/html": [
       "<div>\n",
       "<style scoped>\n",
       "    .dataframe tbody tr th:only-of-type {\n",
       "        vertical-align: middle;\n",
       "    }\n",
       "\n",
       "    .dataframe tbody tr th {\n",
       "        vertical-align: top;\n",
       "    }\n",
       "\n",
       "    .dataframe thead th {\n",
       "        text-align: right;\n",
       "    }\n",
       "</style>\n",
       "<table border=\"1\" class=\"dataframe\">\n",
       "  <thead>\n",
       "    <tr style=\"text-align: right;\">\n",
       "      <th></th>\n",
       "      <th>y</th>\n",
       "      <th>x</th>\n",
       "      <th>delta</th>\n",
       "      <th>xi-x_avg</th>\n",
       "      <th>xi-x_avg**2</th>\n",
       "    </tr>\n",
       "  </thead>\n",
       "  <tbody>\n",
       "    <tr>\n",
       "      <th>0</th>\n",
       "      <td>11.952540</td>\n",
       "      <td>0.000000</td>\n",
       "      <td>1.952540</td>\n",
       "      <td>-100.000000</td>\n",
       "      <td>10000.000000</td>\n",
       "    </tr>\n",
       "    <tr>\n",
       "      <th>1</th>\n",
       "      <td>19.704621</td>\n",
       "      <td>2.020202</td>\n",
       "      <td>8.607575</td>\n",
       "      <td>-97.979798</td>\n",
       "      <td>9600.040812</td>\n",
       "    </tr>\n",
       "    <tr>\n",
       "      <th>2</th>\n",
       "      <td>16.213778</td>\n",
       "      <td>4.040404</td>\n",
       "      <td>4.110535</td>\n",
       "      <td>-95.959596</td>\n",
       "      <td>9208.244057</td>\n",
       "    </tr>\n",
       "    <tr>\n",
       "      <th>3</th>\n",
       "      <td>14.880034</td>\n",
       "      <td>6.060606</td>\n",
       "      <td>1.795327</td>\n",
       "      <td>-93.939394</td>\n",
       "      <td>8824.609734</td>\n",
       "    </tr>\n",
       "    <tr>\n",
       "      <th>4</th>\n",
       "      <td>10.863210</td>\n",
       "      <td>8.080808</td>\n",
       "      <td>-3.053808</td>\n",
       "      <td>-91.919192</td>\n",
       "      <td>8449.137843</td>\n",
       "    </tr>\n",
       "  </tbody>\n",
       "</table>\n",
       "</div>"
      ],
      "text/plain": [
       "           y         x     delta    xi-x_avg   xi-x_avg**2\n",
       "0  11.952540  0.000000  1.952540 -100.000000  10000.000000\n",
       "1  19.704621  2.020202  8.607575  -97.979798   9600.040812\n",
       "2  16.213778  4.040404  4.110535  -95.959596   9208.244057\n",
       "3  14.880034  6.060606  1.795327  -93.939394   8824.609734\n",
       "4  10.863210  8.080808 -3.053808  -91.919192   8449.137843"
      ]
     },
     "execution_count": 81,
     "metadata": {},
     "output_type": "execute_result"
    }
   ],
   "source": [
    "df[\"xi-x_avg\"] = df['x'] - x_avg\n",
    "df[\"xi-x_avg**2\"] = df['xi-x_avg']**2\n",
    "\n",
    "df.head()"
   ]
  },
  {
   "cell_type": "code",
   "execution_count": null,
   "metadata": {},
   "outputs": [],
   "source": []
  },
  {
   "cell_type": "code",
   "execution_count": null,
   "metadata": {},
   "outputs": [],
   "source": []
  },
  {
   "cell_type": "code",
   "execution_count": null,
   "metadata": {},
   "outputs": [],
   "source": []
  },
  {
   "cell_type": "code",
   "execution_count": 63,
   "metadata": {},
   "outputs": [],
   "source": [
    "df['y_pred'] = 0.6*x + 10\n",
    "df['y_pred2'] = 0.5*x + 10"
   ]
  },
  {
   "cell_type": "code",
   "execution_count": 64,
   "metadata": {},
   "outputs": [],
   "source": [
    "rss = score_rss(df[\"y\"],df[\"y_pred\"])\n",
    "rss2 = score_rss(df[\"y\"],df[\"y_pred2\"])"
   ]
  },
  {
   "cell_type": "code",
   "execution_count": 65,
   "metadata": {},
   "outputs": [
    {
     "name": "stdout",
     "output_type": "stream",
     "text": [
      "55930.46105532976\n",
      "32365.4612750484\n"
     ]
    }
   ],
   "source": [
    "print(rss)\n",
    "print(rss2)"
   ]
  },
  {
   "cell_type": "code",
   "execution_count": 54,
   "metadata": {},
   "outputs": [],
   "source": [
    "def score_rss(y, ypred):\n",
    "    # parametros de entrada: series (colunas do dataframe)\n",
    "    # y: é o valor do dataset\n",
    "    # y_pred: valor da reta que estamos avaliando\n",
    "    \n",
    "    rs = (y - ypred)*(y - ypred)\n",
    "    \n",
    "    return rs.sum()"
   ]
  },
  {
   "cell_type": "code",
   "execution_count": null,
   "metadata": {},
   "outputs": [],
   "source": []
  },
  {
   "cell_type": "code",
   "execution_count": 40,
   "metadata": {},
   "outputs": [],
   "source": [
    "n = 100\n",
    "np.random.seed(0)\n",
    "\n",
    "x = np.linspace(0,200,n) # 100 values between 0 and 200\n",
    "delta = np.random.uniform(-20,20,size=(n,))\n",
    "y = .5 * x + 10 + delta * (1 + x/200)"
   ]
  },
  {
   "cell_type": "code",
   "execution_count": 12,
   "metadata": {
    "scrolled": false
   },
   "outputs": [
    {
     "data": {
      "image/png": "[encoded data removed]",
      "text/plain": [
       "<Figure size 432x288 with 1 Axes>"
      ]
     },
     "metadata": {
      "needs_background": "light"
     },
     "output_type": "display_data"
    }
   ],
   "source": [
    "#Plot dos pontos gerados aleatoriamente\n",
    "plt.plot(x,y,'.')\n",
    "plt.xlabel('X')\n",
    "plt.ylabel('Y')\n",
    "plt.title('Dataset')\n",
    "plt.savefig('dataset_exemplo_fig.png')\n",
    "plt.show()"
   ]
  },
  {
   "cell_type": "markdown",
   "metadata": {},
   "source": [
    "### 000.001 - Import and Variables"
   ]
  },
  {
   "cell_type": "code",
   "execution_count": 29,
   "metadata": {},
   "outputs": [],
   "source": [
    "# Para import\n",
    "#arquivo = \"files\\default of credit card clients.csv\"\n",
    "\n",
    "# Para DFs ja estanciados\n",
    "arquivo = \"DF Estanciado\""
   ]
  },
  {
   "cell_type": "code",
   "execution_count": 27,
   "metadata": {},
   "outputs": [],
   "source": [
    "# Para import\n",
    "#data_brut = pd.read_csv(arquivo, sep = \";\")\n",
    "\n",
    "# Para DFs ja estanciados\n",
    "data_brut = df"
   ]
  },
  {
   "cell_type": "markdown",
   "metadata": {},
   "source": []
  },
  {
   "cell_type": "markdown",
   "metadata": {},
   "source": [
    "## 001 - Data Exploration"
   ]
  },
  {
   "cell_type": "code",
   "execution_count": 30,
   "metadata": {
    "scrolled": true
   },
   "outputs": [
    {
     "name": "stdout",
     "output_type": "stream",
     "text": [
      "Estatisticas Básicas\n",
      "\n",
      "Nome do Dataset: DF Estanciado\n",
      "Quantidade de linhas: 100\n",
      "Quantidade de colunas: 3\n",
      "\n",
      "Describe Columns\n",
      "y        float64\n",
      "x        float64\n",
      "delta    float64\n",
      "dtype: object\n",
      "\n",
      "Sample\n",
      "              0          1          2          3          4\n",
      "y      11.95254  19.704621  16.213778  14.880034  10.863210\n",
      "x       0.00000   2.020202   4.040404   6.060606   8.080808\n",
      "delta   1.95254   8.607575   4.110535   1.795327  -3.053808\n",
      "None\n"
     ]
    }
   ],
   "source": [
    "# Dados gerais do dataset\n",
    "st.expo_basic(arquivo,data_brut)\n"
   ]
  },
  {
   "cell_type": "markdown",
   "metadata": {},
   "source": [
    "## 002 - Basic Statistics"
   ]
  },
  {
   "cell_type": "code",
   "execution_count": 7,
   "metadata": {},
   "outputs": [],
   "source": [
    "colunas = \"MARRIAGE,ID\"\n",
    "agrupar_por = \"MARRIAGE\"\n",
    "operador = \"count\""
   ]
  },
  {
   "cell_type": "code",
   "execution_count": 8,
   "metadata": {},
   "outputs": [
    {
     "name": "stdout",
     "output_type": "stream",
     "text": [
      "\n"
     ]
    },
    {
     "data": {
      "text/html": [
       "<div>\n",
       "<style scoped>\n",
       "    .dataframe tbody tr th:only-of-type {\n",
       "        vertical-align: middle;\n",
       "    }\n",
       "\n",
       "    .dataframe tbody tr th {\n",
       "        vertical-align: top;\n",
       "    }\n",
       "\n",
       "    .dataframe thead th {\n",
       "        text-align: right;\n",
       "    }\n",
       "</style>\n",
       "<table border=\"1\" class=\"dataframe\">\n",
       "  <thead>\n",
       "    <tr style=\"text-align: right;\">\n",
       "      <th></th>\n",
       "      <th>ID</th>\n",
       "    </tr>\n",
       "    <tr>\n",
       "      <th>MARRIAGE</th>\n",
       "      <th></th>\n",
       "    </tr>\n",
       "  </thead>\n",
       "  <tbody>\n",
       "    <tr>\n",
       "      <th>0</th>\n",
       "      <td>54</td>\n",
       "    </tr>\n",
       "    <tr>\n",
       "      <th>1</th>\n",
       "      <td>13659</td>\n",
       "    </tr>\n",
       "    <tr>\n",
       "      <th>2</th>\n",
       "      <td>15964</td>\n",
       "    </tr>\n",
       "    <tr>\n",
       "      <th>3</th>\n",
       "      <td>323</td>\n",
       "    </tr>\n",
       "  </tbody>\n",
       "</table>\n",
       "</div>"
      ],
      "text/plain": [
       "             ID\n",
       "MARRIAGE       \n",
       "0            54\n",
       "1         13659\n",
       "2         15964\n",
       "3           323"
      ]
     },
     "execution_count": 8,
     "metadata": {},
     "output_type": "execute_result"
    }
   ],
   "source": [
    "print(\"\")\n",
    "data_brut[[\"MARRIAGE\",\"ID\"]].groupby(agrupar_por).agg(operador)"
   ]
  },
  {
   "cell_type": "markdown",
   "metadata": {},
   "source": [
    "## 003 - Pre-Model"
   ]
  },
  {
   "cell_type": "code",
   "execution_count": 73,
   "metadata": {},
   "outputs": [],
   "source": [
    "X = data_brut['x']\n",
    "Y = data_brut['y']"
   ]
  },
  {
   "cell_type": "markdown",
   "metadata": {},
   "source": [
    "## 004 - Modeling"
   ]
  },
  {
   "cell_type": "code",
   "execution_count": 71,
   "metadata": {},
   "outputs": [],
   "source": [
    "from sklearn.linear_model import LinearRegression"
   ]
  },
  {
   "cell_type": "code",
   "execution_count": 69,
   "metadata": {},
   "outputs": [],
   "source": [
    "#fit(data (X), target (y))"
   ]
  },
  {
   "cell_type": "code",
   "execution_count": 72,
   "metadata": {},
   "outputs": [
    {
     "ename": "ValueError",
     "evalue": "Expected 2D array, got 1D array instead:\narray=[  0.           2.02020202   4.04040404   6.06060606   8.08080808\n  10.1010101   12.12121212  14.14141414  16.16161616  18.18181818\n  20.2020202   22.22222222  24.24242424  26.26262626  28.28282828\n  30.3030303   32.32323232  34.34343434  36.36363636  38.38383838\n  40.4040404   42.42424242  44.44444444  46.46464646  48.48484848\n  50.50505051  52.52525253  54.54545455  56.56565657  58.58585859\n  60.60606061  62.62626263  64.64646465  66.66666667  68.68686869\n  70.70707071  72.72727273  74.74747475  76.76767677  78.78787879\n  80.80808081  82.82828283  84.84848485  86.86868687  88.88888889\n  90.90909091  92.92929293  94.94949495  96.96969697  98.98989899\n 101.01010101 103.03030303 105.05050505 107.07070707 109.09090909\n 111.11111111 113.13131313 115.15151515 117.17171717 119.19191919\n 121.21212121 123.23232323 125.25252525 127.27272727 129.29292929\n 131.31313131 133.33333333 135.35353535 137.37373737 139.39393939\n 141.41414141 143.43434343 145.45454545 147.47474747 149.49494949\n 151.51515152 153.53535354 155.55555556 157.57575758 159.5959596\n 161.61616162 163.63636364 165.65656566 167.67676768 169.6969697\n 171.71717172 173.73737374 175.75757576 177.77777778 179.7979798\n 181.81818182 183.83838384 185.85858586 187.87878788 189.8989899\n 191.91919192 193.93939394 195.95959596 197.97979798 200.        ].\nReshape your data either using array.reshape(-1, 1) if your data has a single feature or array.reshape(1, -1) if it contains a single sample.",
     "output_type": "error",
     "traceback": [
      "\u001b[1;31m---------------------------------------------------------------------------\u001b[0m",
      "\u001b[1;31mValueError\u001b[0m                                Traceback (most recent call last)",
      "\u001b[1;32m<ipython-input-72-edd267c7ce34>\u001b[0m in \u001b[0;36m<module>\u001b[1;34m\u001b[0m\n\u001b[1;32m----> 1\u001b[1;33m \u001b[0mm_lin_reg_baseline\u001b[0m \u001b[1;33m=\u001b[0m \u001b[0mLinearRegression\u001b[0m\u001b[1;33m(\u001b[0m\u001b[1;33m)\u001b[0m\u001b[1;33m.\u001b[0m\u001b[0mfit\u001b[0m\u001b[1;33m(\u001b[0m\u001b[0mX\u001b[0m\u001b[1;33m,\u001b[0m\u001b[0mY\u001b[0m\u001b[1;33m)\u001b[0m\u001b[1;33m\u001b[0m\u001b[1;33m\u001b[0m\u001b[0m\n\u001b[0m",
      "\u001b[1;32mC:\\ProgramData\\Anaconda3\\lib\\site-packages\\sklearn\\linear_model\\base.py\u001b[0m in \u001b[0;36mfit\u001b[1;34m(self, X, y, sample_weight)\u001b[0m\n\u001b[0;32m    456\u001b[0m         \u001b[0mn_jobs_\u001b[0m \u001b[1;33m=\u001b[0m \u001b[0mself\u001b[0m\u001b[1;33m.\u001b[0m\u001b[0mn_jobs\u001b[0m\u001b[1;33m\u001b[0m\u001b[1;33m\u001b[0m\u001b[0m\n\u001b[0;32m    457\u001b[0m         X, y = check_X_y(X, y, accept_sparse=['csr', 'csc', 'coo'],\n\u001b[1;32m--> 458\u001b[1;33m                          y_numeric=True, multi_output=True)\n\u001b[0m\u001b[0;32m    459\u001b[0m \u001b[1;33m\u001b[0m\u001b[0m\n\u001b[0;32m    460\u001b[0m         \u001b[1;32mif\u001b[0m \u001b[0msample_weight\u001b[0m \u001b[1;32mis\u001b[0m \u001b[1;32mnot\u001b[0m \u001b[1;32mNone\u001b[0m \u001b[1;32mand\u001b[0m \u001b[0mnp\u001b[0m\u001b[1;33m.\u001b[0m\u001b[0matleast_1d\u001b[0m\u001b[1;33m(\u001b[0m\u001b[0msample_weight\u001b[0m\u001b[1;33m)\u001b[0m\u001b[1;33m.\u001b[0m\u001b[0mndim\u001b[0m \u001b[1;33m>\u001b[0m \u001b[1;36m1\u001b[0m\u001b[1;33m:\u001b[0m\u001b[1;33m\u001b[0m\u001b[1;33m\u001b[0m\u001b[0m\n",
      "\u001b[1;32mC:\\ProgramData\\Anaconda3\\lib\\site-packages\\sklearn\\utils\\validation.py\u001b[0m in \u001b[0;36mcheck_X_y\u001b[1;34m(X, y, accept_sparse, accept_large_sparse, dtype, order, copy, force_all_finite, ensure_2d, allow_nd, multi_output, ensure_min_samples, ensure_min_features, y_numeric, warn_on_dtype, estimator)\u001b[0m\n\u001b[0;32m    754\u001b[0m                     \u001b[0mensure_min_features\u001b[0m\u001b[1;33m=\u001b[0m\u001b[0mensure_min_features\u001b[0m\u001b[1;33m,\u001b[0m\u001b[1;33m\u001b[0m\u001b[1;33m\u001b[0m\u001b[0m\n\u001b[0;32m    755\u001b[0m                     \u001b[0mwarn_on_dtype\u001b[0m\u001b[1;33m=\u001b[0m\u001b[0mwarn_on_dtype\u001b[0m\u001b[1;33m,\u001b[0m\u001b[1;33m\u001b[0m\u001b[1;33m\u001b[0m\u001b[0m\n\u001b[1;32m--> 756\u001b[1;33m                     estimator=estimator)\n\u001b[0m\u001b[0;32m    757\u001b[0m     \u001b[1;32mif\u001b[0m \u001b[0mmulti_output\u001b[0m\u001b[1;33m:\u001b[0m\u001b[1;33m\u001b[0m\u001b[1;33m\u001b[0m\u001b[0m\n\u001b[0;32m    758\u001b[0m         y = check_array(y, 'csr', force_all_finite=True, ensure_2d=False,\n",
      "\u001b[1;32mC:\\ProgramData\\Anaconda3\\lib\\site-packages\\sklearn\\utils\\validation.py\u001b[0m in \u001b[0;36mcheck_array\u001b[1;34m(array, accept_sparse, accept_large_sparse, dtype, order, copy, force_all_finite, ensure_2d, allow_nd, ensure_min_samples, ensure_min_features, warn_on_dtype, estimator)\u001b[0m\n\u001b[0;32m    550\u001b[0m                     \u001b[1;34m\"Reshape your data either using array.reshape(-1, 1) if \"\u001b[0m\u001b[1;33m\u001b[0m\u001b[1;33m\u001b[0m\u001b[0m\n\u001b[0;32m    551\u001b[0m                     \u001b[1;34m\"your data has a single feature or array.reshape(1, -1) \"\u001b[0m\u001b[1;33m\u001b[0m\u001b[1;33m\u001b[0m\u001b[0m\n\u001b[1;32m--> 552\u001b[1;33m                     \"if it contains a single sample.\".format(array))\n\u001b[0m\u001b[0;32m    553\u001b[0m \u001b[1;33m\u001b[0m\u001b[0m\n\u001b[0;32m    554\u001b[0m         \u001b[1;31m# in the future np.flexible dtypes will be handled like object dtypes\u001b[0m\u001b[1;33m\u001b[0m\u001b[1;33m\u001b[0m\u001b[1;33m\u001b[0m\u001b[0m\n",
      "\u001b[1;31mValueError\u001b[0m: Expected 2D array, got 1D array instead:\narray=[  0.           2.02020202   4.04040404   6.06060606   8.08080808\n  10.1010101   12.12121212  14.14141414  16.16161616  18.18181818\n  20.2020202   22.22222222  24.24242424  26.26262626  28.28282828\n  30.3030303   32.32323232  34.34343434  36.36363636  38.38383838\n  40.4040404   42.42424242  44.44444444  46.46464646  48.48484848\n  50.50505051  52.52525253  54.54545455  56.56565657  58.58585859\n  60.60606061  62.62626263  64.64646465  66.66666667  68.68686869\n  70.70707071  72.72727273  74.74747475  76.76767677  78.78787879\n  80.80808081  82.82828283  84.84848485  86.86868687  88.88888889\n  90.90909091  92.92929293  94.94949495  96.96969697  98.98989899\n 101.01010101 103.03030303 105.05050505 107.07070707 109.09090909\n 111.11111111 113.13131313 115.15151515 117.17171717 119.19191919\n 121.21212121 123.23232323 125.25252525 127.27272727 129.29292929\n 131.31313131 133.33333333 135.35353535 137.37373737 139.39393939\n 141.41414141 143.43434343 145.45454545 147.47474747 149.49494949\n 151.51515152 153.53535354 155.55555556 157.57575758 159.5959596\n 161.61616162 163.63636364 165.65656566 167.67676768 169.6969697\n 171.71717172 173.73737374 175.75757576 177.77777778 179.7979798\n 181.81818182 183.83838384 185.85858586 187.87878788 189.8989899\n 191.91919192 193.93939394 195.95959596 197.97979798 200.        ].\nReshape your data either using array.reshape(-1, 1) if your data has a single feature or array.reshape(1, -1) if it contains a single sample."
     ]
    }
   ],
   "source": [
    "m_lin_reg_baseline = LinearRegression().fit(X,Y)"
   ]
  },
  {
   "cell_type": "code",
   "execution_count": null,
   "metadata": {},
   "outputs": [],
   "source": [
    "print(\"Linear Regression Baseline Score: \" + str(m_lin_reg.score(X,Y)))"
   ]
  },
  {
   "cell_type": "code",
   "execution_count": null,
   "metadata": {},
   "outputs": [],
   "source": [
    "print(\"Linear Regression Baseline Coefs/Intercept:\")\n",
    "m_lin_reg_coef =  m_lin_reg.coef_\n",
    "m_lin_reg_intercept_ = m_lin_reg.intercept_\n",
    "print(m_lin_reg.coef_)\n",
    "print(m_lin_reg.intercept_)"
   ]
  },
  {
   "cell_type": "code",
   "execution_count": null,
   "metadata": {},
   "outputs": [],
   "source": []
  },
  {
   "cell_type": "code",
   "execution_count": null,
   "metadata": {},
   "outputs": [],
   "source": []
  },
  {
   "cell_type": "code",
   "execution_count": null,
   "metadata": {},
   "outputs": [],
   "source": []
  }
 ],
 "metadata": {
  "kernelspec": {
   "display_name": "Python 3",
   "language": "python",
   "name": "python3"
  },
  "language_info": {
   "codemirror_mode": {
    "name": "ipython",
    "version": 3
   },
   "file_extension": ".py",
   "mimetype": "text/x-python",
   "name": "python",
   "nbconvert_exporter": "python",
   "pygments_lexer": "ipython3",
   "version": "3.6.4"
  }
 },
 "nbformat": 4,
 "nbformat_minor": 2
}
