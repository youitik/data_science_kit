{
 "cells": [
  {
   "cell_type": "markdown",
   "metadata": {},
   "source": [
    "# Data Science - Scientist Kit"
   ]
  },
  {
   "cell_type": "markdown",
   "metadata": {},
   "source": [
    "## 000 - Setup"
   ]
  },
  {
   "cell_type": "code",
   "execution_count": 1,
   "metadata": {},
   "outputs": [
    {
     "name": "stdout",
     "output_type": "stream",
     "text": [
      "C:\\Users\\alunog.ACAD.000\\Downloads\\data_science_kit-master\\data_science_kit-master\\scientist_kit_v001\n"
     ]
    }
   ],
   "source": [
    "import os\n",
    "import sys\n",
    "path_f = os.path.realpath(\"scientist_kit_v001\")\n",
    "print(path_f)\n",
    "sys.path.insert(0, path_f)"
   ]
  },
  {
   "cell_type": "code",
   "execution_count": 1,
   "metadata": {},
   "outputs": [],
   "source": [
    "import pandas as pd\n",
    "import numpy as np\n",
    "import scripts.calculations as cc\n",
    "import scripts.log as log\n",
    "import scripts.statistics as st"
   ]
  },
  {
   "cell_type": "markdown",
   "metadata": {},
   "source": [
    "### 000.001 - Import and Variables"
   ]
  },
  {
   "cell_type": "code",
   "execution_count": 2,
   "metadata": {},
   "outputs": [],
   "source": [
    "arquivo = \"files\\default of credit card clients.csv\""
   ]
  },
  {
   "cell_type": "code",
   "execution_count": 3,
   "metadata": {},
   "outputs": [],
   "source": [
    "data_brut = pd.read_csv(arquivo, sep = \";\")"
   ]
  },
  {
   "cell_type": "markdown",
   "metadata": {},
   "source": [
    "## 001 - Exploracao de Dados"
   ]
  },
  {
   "cell_type": "code",
   "execution_count": 4,
   "metadata": {
    "scrolled": true
   },
   "outputs": [
    {
     "name": "stdout",
     "output_type": "stream",
     "text": [
      "Estatisticas Básicas\n",
      "\n",
      "Nome do Dataset: files\\default of credit card clients.csv\n",
      "Quantidade de linhas: 30000\n",
      "Quantidade de colunas: 25\n",
      "\n",
      "Describe Columns\n",
      "ID                            int64\n",
      "LIMIT_BAL                     int64\n",
      "SEX                           int64\n",
      "EDUCATION                     int64\n",
      "MARRIAGE                      int64\n",
      "AGE                           int64\n",
      "PAY_0                         int64\n",
      "PAY_2                         int64\n",
      "PAY_3                         int64\n",
      "PAY_4                         int64\n",
      "PAY_5                         int64\n",
      "PAY_6                         int64\n",
      "BILL_AMT1                     int64\n",
      "BILL_AMT2                     int64\n",
      "BILL_AMT3                     int64\n",
      "BILL_AMT4                     int64\n",
      "BILL_AMT5                     int64\n",
      "BILL_AMT6                     int64\n",
      "PAY_AMT1                      int64\n",
      "PAY_AMT2                      int64\n",
      "PAY_AMT3                      int64\n",
      "PAY_AMT4                      int64\n",
      "PAY_AMT5                      int64\n",
      "PAY_AMT6                      int64\n",
      "default payment next month    int64\n",
      "dtype: object\n",
      "\n",
      "Sample\n",
      "                                0       1      2      3      4\n",
      "ID                              1       2      3      4      5\n",
      "LIMIT_BAL                   20000  120000  90000  50000  50000\n",
      "SEX                             2       2      2      2      1\n",
      "EDUCATION                       2       2      2      2      2\n",
      "MARRIAGE                        1       2      2      1      1\n",
      "AGE                            24      26     34     37     57\n",
      "PAY_0                           2      -1      0      0     -1\n",
      "PAY_2                           2       2      0      0      0\n",
      "PAY_3                          -1       0      0      0     -1\n",
      "PAY_4                          -1       0      0      0      0\n",
      "PAY_5                          -2       0      0      0      0\n",
      "PAY_6                          -2       2      0      0      0\n",
      "BILL_AMT1                    3913    2682  29239  46990   8617\n",
      "BILL_AMT2                    3102    1725  14027  48233   5670\n",
      "BILL_AMT3                     689    2682  13559  49291  35835\n",
      "BILL_AMT4                       0    3272  14331  28314  20940\n",
      "BILL_AMT5                       0    3455  14948  28959  19146\n",
      "BILL_AMT6                       0    3261  15549  29547  19131\n",
      "PAY_AMT1                        0       0   1518   2000   2000\n",
      "PAY_AMT2                      689    1000   1500   2019  36681\n",
      "PAY_AMT3                        0    1000   1000   1200  10000\n",
      "PAY_AMT4                        0    1000   1000   1100   9000\n",
      "PAY_AMT5                        0       0   1000   1069    689\n",
      "PAY_AMT6                        0    2000   5000   1000    679\n",
      "default payment next month      1       1      0      0      0\n",
      "None\n"
     ]
    }
   ],
   "source": [
    "# Dados gerais do dataset\n",
    "st.expo_basic(arquivo,data_brut)\n"
   ]
  },
  {
   "cell_type": "markdown",
   "metadata": {},
   "source": [
    "## Estatisticas Basicas "
   ]
  },
  {
   "cell_type": "code",
   "execution_count": 7,
   "metadata": {},
   "outputs": [],
   "source": [
    "colunas = \"MARRIAGE,ID\"\n",
    "agrupar_por = \"MARRIAGE\"\n",
    "operador = \"count\""
   ]
  },
  {
   "cell_type": "code",
   "execution_count": 8,
   "metadata": {},
   "outputs": [
    {
     "name": "stdout",
     "output_type": "stream",
     "text": [
      "\n"
     ]
    },
    {
     "data": {
      "text/html": [
       "<div>\n",
       "<style scoped>\n",
       "    .dataframe tbody tr th:only-of-type {\n",
       "        vertical-align: middle;\n",
       "    }\n",
       "\n",
       "    .dataframe tbody tr th {\n",
       "        vertical-align: top;\n",
       "    }\n",
       "\n",
       "    .dataframe thead th {\n",
       "        text-align: right;\n",
       "    }\n",
       "</style>\n",
       "<table border=\"1\" class=\"dataframe\">\n",
       "  <thead>\n",
       "    <tr style=\"text-align: right;\">\n",
       "      <th></th>\n",
       "      <th>ID</th>\n",
       "    </tr>\n",
       "    <tr>\n",
       "      <th>MARRIAGE</th>\n",
       "      <th></th>\n",
       "    </tr>\n",
       "  </thead>\n",
       "  <tbody>\n",
       "    <tr>\n",
       "      <th>0</th>\n",
       "      <td>54</td>\n",
       "    </tr>\n",
       "    <tr>\n",
       "      <th>1</th>\n",
       "      <td>13659</td>\n",
       "    </tr>\n",
       "    <tr>\n",
       "      <th>2</th>\n",
       "      <td>15964</td>\n",
       "    </tr>\n",
       "    <tr>\n",
       "      <th>3</th>\n",
       "      <td>323</td>\n",
       "    </tr>\n",
       "  </tbody>\n",
       "</table>\n",
       "</div>"
      ],
      "text/plain": [
       "             ID\n",
       "MARRIAGE       \n",
       "0            54\n",
       "1         13659\n",
       "2         15964\n",
       "3           323"
      ]
     },
     "execution_count": 8,
     "metadata": {},
     "output_type": "execute_result"
    }
   ],
   "source": [
    "print(\"\")\n",
    "data_brut[[\"MARRIAGE\",\"ID\"]].groupby(agrupar_por).agg(operador)"
   ]
  },
  {
   "cell_type": "markdown",
   "metadata": {},
   "source": [
    "## Pre-Modelagens"
   ]
  },
  {
   "cell_type": "code",
   "execution_count": 16,
   "metadata": {},
   "outputs": [],
   "source": [
    "X = data_brut[[\"ID\", \"SEX\"]]\n",
    "Y = data_brut[[\"default payment next month\"]]"
   ]
  },
  {
   "cell_type": "markdown",
   "metadata": {},
   "source": [
    "## Modelagens"
   ]
  },
  {
   "cell_type": "code",
   "execution_count": 17,
   "metadata": {},
   "outputs": [],
   "source": [
    "from sklearn.linear_model import LinearRegression"
   ]
  },
  {
   "cell_type": "code",
   "execution_count": 10,
   "metadata": {},
   "outputs": [],
   "source": [
    "#fit(data (X), target (y))"
   ]
  },
  {
   "cell_type": "code",
   "execution_count": 18,
   "metadata": {},
   "outputs": [],
   "source": [
    "m_lin_reg = LinearRegression().fit(X,Y)"
   ]
  },
  {
   "cell_type": "code",
   "execution_count": 20,
   "metadata": {},
   "outputs": [
    {
     "data": {
      "text/plain": [
       "0.0017714851925978439"
      ]
     },
     "execution_count": 20,
     "metadata": {},
     "output_type": "execute_result"
    }
   ],
   "source": [
    "m_lin_reg.score(X,Y)"
   ]
  },
  {
   "cell_type": "code",
   "execution_count": 23,
   "metadata": {},
   "outputs": [
    {
     "name": "stdout",
     "output_type": "stream",
     "text": [
      "[[-6.33458063e-07 -3.37020003e-02]]\n",
      "[0.28475121]\n"
     ]
    }
   ],
   "source": [
    "print(m_lin_reg.coef_)\n",
    "print(m_lin_reg.intercept_)\n"
   ]
  },
  {
   "cell_type": "code",
   "execution_count": null,
   "metadata": {},
   "outputs": [],
   "source": []
  },
  {
   "cell_type": "code",
   "execution_count": null,
   "metadata": {},
   "outputs": [],
   "source": []
  },
  {
   "cell_type": "code",
   "execution_count": null,
   "metadata": {},
   "outputs": [],
   "source": []
  }
 ],
 "metadata": {
  "kernelspec": {
   "display_name": "Python 3",
   "language": "python",
   "name": "python3"
  },
  "language_info": {
   "codemirror_mode": {
    "name": "ipython",
    "version": 3
   },
   "file_extension": ".py",
   "mimetype": "text/x-python",
   "name": "python",
   "nbconvert_exporter": "python",
   "pygments_lexer": "ipython3",
   "version": "3.7.1"
  }
 },
 "nbformat": 4,
 "nbformat_minor": 2
}
